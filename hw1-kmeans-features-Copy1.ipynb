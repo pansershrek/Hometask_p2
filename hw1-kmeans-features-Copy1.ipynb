{
 "cells": [
  {
   "cell_type": "code",
   "execution_count": 1,
   "metadata": {
    "collapsed": true,
    "deletable": true,
    "editable": true
   },
   "outputs": [],
   "source": [
    "import pandas as pd\n",
    "import numpy as np\n",
    "import matplotlib.pyplot as plt\n",
    "from sklearn.base import BaseEstimator, ClassifierMixin\n",
    "from sklearn.base import ClusterMixin\n",
    "import math\n",
    "import seaborn as sns\n",
    "import matplotlib.pyplot as plt\n",
    "from line_profiler import LineProfiler\n",
    "%matplotlib inline\n",
    "\n",
    "plt.style.use('ggplot')\n",
    "plt.rcParams['figure.figsize'] = (12,5)"
   ]
  },
  {
   "cell_type": "code",
   "execution_count": 2,
   "metadata": {
    "collapsed": true
   },
   "outputs": [],
   "source": [
    "def profile_print(func_to_call, *args):\n",
    "    profiler = LineProfiler()\n",
    "    profiler.add_function(func_to_call)\n",
    "    profiler.runcall(func_to_call, *args)\n",
    "    profiler.print_stats()"
   ]
  },
  {
   "cell_type": "markdown",
   "metadata": {
    "editable": true
   },
   "source": [
    "Мой первоначальный алгоритм"
   ]
  },
  {
   "cell_type": "code",
   "execution_count": 149,
   "metadata": {
    "collapsed": false,
    "deletable": true,
    "editable": true
   },
   "outputs": [],
   "source": [
    "class Kmeans(BaseEstimator, ClusterMixin): \n",
    "    \n",
    "    def __init__(self, k=5, metric='euclidean', max_iter=1000, random_state=None):\n",
    "        \"\"\"\n",
    "        Инициализация метода\n",
    "        :k - количество кластеров\n",
    "        :metric - функция расстояния между объектами\n",
    "        :max_iter - максиальное количество итераций\n",
    "        :random_state - seed для инициализации генератора случайных чисел\n",
    "        \"\"\"\n",
    "        \n",
    "        self.k = k\n",
    "        self.random_state = random_state\n",
    "        self.metric = metric\n",
    "        self.max_iter = max_iter\n",
    "    \n",
    "    def fit(self, X, y=None):\n",
    "        \"\"\"\n",
    "        Процедура обучения k-means\n",
    "        \"\"\"\n",
    "        def maby_my_metric(w1 , w2):\n",
    "            ans = 0\n",
    "            base_size = int (X.shape[1])\n",
    "            for i in xrange(base_size):\n",
    "                   ans += (w1[i] - w2[i]) ** 2\n",
    "            return ans ** 0.5\n",
    "        \n",
    "        # Инициализация генератора случайных чисел\n",
    "        np.random.seed(self.random_state)\n",
    "        \n",
    "        # Массив с метками кластеров для каждого объекта из X\n",
    "        self.labels = np.empty(X.shape[0],dtype=int)\n",
    "        \n",
    "        # Массив с центройдами кластеров\n",
    "        self.centroids = np.empty((self.k, X.shape[1]))\n",
    "        \n",
    "        ## Your Code Here\n",
    "        Eps = 0.00001\n",
    "        \n",
    "        labels_size = int(self.labels.shape[0])\n",
    "        for i in xrange(self.k):\n",
    "            self.centroids[i] = X[np.random.randint(0,labels_size)] * np.random.sample() + np.random.sample()\n",
    "        centroids_old = np.copy(self.centroids)\n",
    "     \n",
    "       \n",
    "        for i in xrange(labels_size):\n",
    "            self.labels[i] = 0\n",
    "        for step in xrange(self.max_iter):\n",
    "          \n",
    "            for i in xrange(labels_size):\n",
    "                for j in xrange(self.k):\n",
    "                    if (maby_my_metric(X[i] , self.centroids[self.labels[i]]) > \n",
    "                        maby_my_metric(X[i] , self.centroids[j])):\n",
    "                        self.labels[i] = j;\n",
    "            centr = [0 for i in xrange(self.k)]\n",
    "            lens  = [0 for i in xrange(self.k)]\n",
    "            for i in xrange(labels_size):\n",
    "                centr[self.labels[i]] += X[i]\n",
    "                lens[self.labels[i]] += math.fabs(maby_my_metric(X[i], self.centroids[self.labels[i]]))\n",
    "            \n",
    "            for i in xrange(self.k):\n",
    "                \n",
    "                if lens[i] != 0 :\n",
    "                    self.centroids[i] = centr[i] / lens[i]\n",
    "                \n",
    "            delta = math.fabs(maby_my_metric(self.centroids[0],centroids_old[0]))\n",
    "            for i in xrange(self.k):\n",
    "                delta = max(delta, math.fabs(maby_my_metric(self.centroids[i],centroids_old[i])))\n",
    "           \n",
    "            if delta < Eps:\n",
    "                break\n",
    "           \n",
    "            centroids_old = np.copy(self.centroids)\n",
    "            \n",
    "        return self\n",
    "\n",
    "    def predict(self, X, y=None):\n",
    "        \"\"\"\n",
    "        Процедура предсказания кластера\n",
    "        \n",
    "        Возвращает метку ближайшего кластера для каждого объекта\n",
    "        \"\"\"\n",
    "        ret_labels = []\n",
    "        labels_size = int(self.labels.shape[0])\n",
    "        for i in xrange(labels_size):\n",
    "            ret_labels.append(self.labels[i]+1)\n",
    "        return ret_labels\n",
    "    "
   ]
  },
  {
   "cell_type": "markdown",
   "metadata": {
    "editable": true
   },
   "source": [
    "Векторизуем вычисления, т.е. улучшим функцию вычисления растояния и немного улучшим вычисления в методе fit\n"
   ]
  },
  {
   "cell_type": "code",
   "execution_count": 177,
   "metadata": {
    "collapsed": false
   },
   "outputs": [],
   "source": [
    "class Kmeans(BaseEstimator, ClusterMixin): \n",
    "    \n",
    "    def __init__(self, k=5, metric='euclidean', max_iter=1000, random_state=None):\n",
    "        \"\"\"\n",
    "        Инициализация метода\n",
    "        :k - количество кластеров\n",
    "        :metric - функция расстояния между объектами\n",
    "        :max_iter - максиальное количество итераций\n",
    "        :random_state - seed для инициализации генератора случайных чисел\n",
    "        \"\"\"\n",
    "        \n",
    "        self.k = k\n",
    "        self.random_state = random_state\n",
    "        self.metric = metric\n",
    "        self.max_iter = max_iter\n",
    "    \n",
    "    def fit(self, X, y=None):\n",
    "        \"\"\"\n",
    "        Процедура обучения k-means\n",
    "        \"\"\"\n",
    "        def maby_my_metric(w1 , w2):\n",
    "            ans = 0\n",
    "            #base_size = int (X.shape[1])\n",
    "            #for i in xrange(base_size):\n",
    "            #       ans += (w1[i] - w2[i]) ** 2\n",
    "            ans = sum((w1 - w2) **2)\n",
    "            return ans ** 0.5\n",
    "        \n",
    "        # Инициализация генератора случайных чисел\n",
    "        np.random.seed(self.random_state)\n",
    "        \n",
    "        # Массив с метками кластеров для каждого объекта из X\n",
    "        self.labels = np.empty(X.shape[0],dtype=int)\n",
    "        \n",
    "        # Массив с центройдами кластеров\n",
    "        self.centroids = np.empty((self.k, X.shape[1]))\n",
    "        \n",
    "        ## Your Code Here1\n",
    "        Eps = 0.00001\n",
    "        \n",
    "        labels_size = int(self.labels.shape[0])\n",
    "        for i in xrange(self.k):\n",
    "            self.centroids[i] = X[np.random.randint(0,labels_size)] * np.random.sample() + np.random.sample()\n",
    "        centroids_old = np.copy(self.centroids)\n",
    "     \n",
    "       \n",
    "        #for i in xrange(labels_size):\n",
    "        #    self.labels[i] = 0\n",
    "        self.labels *= 0\n",
    "        for step in xrange(self.max_iter):\n",
    "          \n",
    "            for i in xrange(labels_size):\n",
    "                for j in xrange(self.k):\n",
    "                    if (maby_my_metric(X[i] , self.centroids[self.labels[i]]) > maby_my_metric(X[i] , self.centroids[j])):\n",
    "                        self.labels[i] = j;\n",
    "            centr = [0 for i in xrange(self.k)]\n",
    "            lens  = [0 for i in xrange(self.k)]\n",
    "            for i in xrange(labels_size):\n",
    "                centr[self.labels[i]] += X[i]\n",
    "                lens[self.labels[i]] += math.fabs(maby_my_metric(X[i], self.centroids[self.labels[i]]))\n",
    "            \n",
    "            for i in xrange(self.k):\n",
    "                \n",
    "                if lens[i] != 0 :\n",
    "                    self.centroids[i] = centr[i] / lens[i]\n",
    "                \n",
    "            delta = math.fabs(maby_my_metric(self.centroids[0],centroids_old[0]))\n",
    "            for i in xrange(self.k):\n",
    "                delta = max(delta, math.fabs(maby_my_metric(self.centroids[i],centroids_old[i])))\n",
    "           \n",
    "            if delta < Eps:\n",
    "                break\n",
    "           \n",
    "            centroids_old = np.copy(self.centroids)\n",
    "            \n",
    "        return self\n",
    "\n",
    "    def predict(self, X, y=None):\n",
    "        \"\"\"\n",
    "        Процедура предсказания кластера\n",
    "        \n",
    "        Возвращает метку ближайшего кластера для каждого объекта\n",
    "        \"\"\"\n",
    "        ret_labels = []\n",
    "        #labels_size = int(self.labels.shape[0])\n",
    "        #for i in xrange(labels_size):\n",
    "        ret_labels.append(self.labels+1)\n",
    "        return ret_labels\n",
    "    "
   ]
  },
  {
   "cell_type": "markdown",
   "metadata": {
    "editable": true
   },
   "source": [
    "\n"
   ]
  },
  {
   "cell_type": "code",
   "execution_count": 87,
   "metadata": {
    "collapsed": false
   },
   "outputs": [
    {
     "data": {
      "text/plain": [
       "2"
      ]
     },
     "execution_count": 87,
     "metadata": {},
     "output_type": "execute_result"
    }
   ],
   "source": [
    "A=np.array([1,2,3])\n",
    "A[1]"
   ]
  },
  {
   "cell_type": "code",
   "execution_count": 106,
   "metadata": {
    "collapsed": false,
    "deletable": true,
    "editable": true
   },
   "outputs": [],
   "source": [
    "model = Kmeans() #  в методе установлен k=9 для второго номера, его можно изменять для 1 номера\n",
    "model.fit(X, y)\n",
    "y1 = model.predict(X,y)\n"
   ]
  },
  {
   "cell_type": "markdown",
   "metadata": {
    "deletable": true,
    "editable": true
   },
   "source": [
    "### Проверка корректности метода\n",
    "\n",
    "Перед тем как применять алгоритм на реальных данных, желатено испытать его на простых \"игрушечных\" данных.\n",
    "\n",
    "Если алгоритм реализован правильно, то метод должен идеально разбивать на 3 кластера данные ниже. Проверьте это."
   ]
  },
  {
   "cell_type": "code",
   "execution_count": 4,
   "metadata": {
    "collapsed": true,
    "deletable": true,
    "editable": true
   },
   "outputs": [],
   "source": [
    "from sklearn.datasets import make_blobs"
   ]
  },
  {
   "cell_type": "code",
   "execution_count": 161,
   "metadata": {
    "collapsed": false,
    "deletable": true,
    "editable": true
   },
   "outputs": [],
   "source": [
    "X, y = make_blobs(n_samples=100, n_features=3, centers=5, cluster_std=1, \n",
    "           center_box=(-10.0, 10.0), shuffle=False, random_state=1234)"
   ]
  },
  {
   "cell_type": "code",
   "execution_count": 162,
   "metadata": {
    "collapsed": false,
    "deletable": true,
    "editable": true
   },
   "outputs": [
    {
     "data": {
      "text/plain": [
       "<matplotlib.collections.PathCollection at 0x7efd5c1df710>"
      ]
     },
     "execution_count": 162,
     "metadata": {},
     "output_type": "execute_result"
    },
    {
     "data": {
      "image/png": "[encoded data removed]",
      "text/plain": [
       "<matplotlib.figure.Figure at 0x7efd5caf9990>"
      ]
     },
     "metadata": {},
     "output_type": "display_data"
    }
   ],
   "source": [
    "plt.scatter(X[:,0], X[:, 1], c=y)"
   ]
  },
  {
   "cell_type": "markdown",
   "metadata": {
    "deletable": true,
    "editable": true
   },
   "source": [
    "#### Задание 2 (1 балл) \n",
    "\n",
    "Проверьте вашу имплементацию на простых данных"
   ]
  },
  {
   "cell_type": "code",
   "execution_count": 178,
   "metadata": {
    "collapsed": false,
    "deletable": true,
    "editable": true
   },
   "outputs": [
    {
     "data": {
      "text/plain": [
       "<matplotlib.collections.PathCollection at 0x7efd5bad3310>"
      ]
     },
     "execution_count": 178,
     "metadata": {},
     "output_type": "execute_result"
    },
    {
     "data": {
      "image/png": "[encoded data removed]",
      "text/plain": [
       "<matplotlib.figure.Figure at 0x7efd5c987210>"
      ]
     },
     "metadata": {},
     "output_type": "display_data"
    }
   ],
   "source": [
    "model = Kmeans()\n",
    "model.fit(X, y)\n",
    "y1 = model.predict(X,y)\n",
    "plt.scatter(X[:,0], X[:, 1], c=y1)\n"
   ]
  },
  {
   "cell_type": "code",
   "execution_count": 172,
   "metadata": {
    "collapsed": false
   },
   "outputs": [
    {
     "name": "stdout",
     "output_type": "stream",
     "text": [
      "The slowest run took 89.32 times longer than the fastest. This could mean that an intermediate result is being cached.\n",
      "1 loop, best of 3: 46.9 ms per loop\n"
     ]
    }
   ],
   "source": [
    "%%timeit\n",
    "model.fit(X,y)"
   ]
  },
  {
   "cell_type": "code",
   "execution_count": 179,
   "metadata": {
    "collapsed": false
   },
   "outputs": [
    {
     "name": "stdout",
     "output_type": "stream",
     "text": [
      "Timer unit: 1e-06 s\n",
      "\n",
      "Total time: 0.09928 s\n",
      "File: <ipython-input-177-f53479e9d313>\n",
      "Function: fit at line 17\n",
      "\n",
      "Line #      Hits         Time  Per Hit   % Time  Line Contents\n",
      "==============================================================\n",
      "    17                                               def fit(self, X, y=None):\n",
      "    18                                                   \"\"\"\n",
      "    19                                                   Процедура обучения k-means\n",
      "    20                                                   \"\"\"\n",
      "    21         1            2      2.0      0.0          def maby_my_metric(w1 , w2):\n",
      "    22                                                       ans = 0\n",
      "    23                                                       #base_size = int (X.shape[1])\n",
      "    24                                                       #for i in xrange(base_size):\n",
      "    25                                                       #       ans += (w1[i] - w2[i]) ** 2\n",
      "    26                                                       ans = sum((w1 - w2) **2)\n",
      "    27                                                       return ans ** 0.5\n",
      "    28                                                   \n",
      "    29                                                   # Инициализация генератора случайных чисел\n",
      "    30         1          635    635.0      0.6          np.random.seed(self.random_state)\n",
      "    31                                                   \n",
      "    32                                                   # Массив с метками кластеров для каждого объекта из X\n",
      "    33         1           13     13.0      0.0          self.labels = np.empty(X.shape[0],dtype=int)\n",
      "    34                                                   \n",
      "    35                                                   # Массив с центройдами кластеров\n",
      "    36         1            5      5.0      0.0          self.centroids = np.empty((self.k, X.shape[1]))\n",
      "    37                                                   \n",
      "    38                                                   ## Your Code Here1\n",
      "    39         1            1      1.0      0.0          Eps = 0.00001\n",
      "    40                                                   \n",
      "    41         1            2      2.0      0.0          labels_size = int(self.labels.shape[0])\n",
      "    42         6            8      1.3      0.0          for i in xrange(self.k):\n",
      "    43         5           77     15.4      0.1              self.centroids[i] = X[np.random.randint(0,labels_size)] * np.random.sample() + np.random.sample()\n",
      "    44         1            9      9.0      0.0          centroids_old = np.copy(self.centroids)\n",
      "    45                                                \n",
      "    46                                                  \n",
      "    47                                                   #for i in xrange(labels_size):\n",
      "    48                                                   #    self.labels[i] = 0\n",
      "    49         1            6      6.0      0.0          self.labels *= 0\n",
      "    50        13           15      1.2      0.0          for step in xrange(self.max_iter):\n",
      "    51                                                     \n",
      "    52      1313         1188      0.9      1.2              for i in xrange(labels_size):\n",
      "    53      7800         7963      1.0      8.0                  for j in xrange(self.k):\n",
      "    54      6500        74401     11.4     74.9                      if (maby_my_metric(X[i] , self.centroids[self.labels[i]]) > maby_my_metric(X[i] , self.centroids[j])):\n",
      "    55       452          668      1.5      0.7                          self.labels[i] = j;\n",
      "    56        78           95      1.2      0.1              centr = [0 for i in xrange(self.k)]\n",
      "    57        78           64      0.8      0.1              lens  = [0 for i in xrange(self.k)]\n",
      "    58      1313         1131      0.9      1.1              for i in xrange(labels_size):\n",
      "    59      1300         2683      2.1      2.7                  centr[self.labels[i]] += X[i]\n",
      "    60      1300         8614      6.6      8.7                  lens[self.labels[i]] += math.fabs(maby_my_metric(X[i], self.centroids[self.labels[i]]))\n",
      "    61                                                       \n",
      "    62        78           91      1.2      0.1              for i in xrange(self.k):\n",
      "    63                                                           \n",
      "    64        65           70      1.1      0.1                  if lens[i] != 0 :\n",
      "    65        52          742     14.3      0.7                      self.centroids[i] = centr[i] / lens[i]\n",
      "    66                                                           \n",
      "    67        13          118      9.1      0.1              delta = math.fabs(maby_my_metric(self.centroids[0],centroids_old[0]))\n",
      "    68        78           79      1.0      0.1              for i in xrange(self.k):\n",
      "    69        65          441      6.8      0.4                  delta = max(delta, math.fabs(maby_my_metric(self.centroids[i],centroids_old[i])))\n",
      "    70                                                      \n",
      "    71        13           11      0.8      0.0              if delta < Eps:\n",
      "    72         1            1      1.0      0.0                  break\n",
      "    73                                                      \n",
      "    74        12          146     12.2      0.1              centroids_old = np.copy(self.centroids)\n",
      "    75                                                       \n",
      "    76         1            1      1.0      0.0          return self\n",
      "\n"
     ]
    }
   ],
   "source": [
    "profile_print(model.fit, X, y)"
   ]
  }
 ],
 "metadata": {
  "anaconda-cloud": {},
  "celltoolbar": "Edit Metadata",
  "kernelspec": {
   "display_name": "Python 2",
   "language": "python",
   "name": "python2"
  },
  "language_info": {
   "codemirror_mode": {
    "name": "ipython",
    "version": 2
   },
   "file_extension": ".py",
   "mimetype": "text/x-python",
   "name": "python",
   "nbconvert_exporter": "python",
   "pygments_lexer": "ipython2",
   "version": "2.7.13"
  },
  "nav_menu": {},
  "toc": {
   "navigate_menu": true,
   "number_sections": false,
   "sideBar": true,
   "threshold": 6,
   "toc_cell": false,
   "toc_section_display": "block",
   "toc_window_display": true
  }
 },
 "nbformat": 4,
 "nbformat_minor": 2
}
